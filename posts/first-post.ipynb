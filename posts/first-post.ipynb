{
 "cells": [
  {
   "cell_type": "markdown",
   "id": "e4d022b3",
   "metadata": {},
   "source": [
    "# This is my first post to test Quarto"
   ]
  },
  {
   "cell_type": "raw",
   "id": "6067d771",
   "metadata": {},
   "source": [
    "---\n",
    "title: My First Post\n",
    "author: Prem Puttegowda\n",
    "date: Oct 2, 2022\n",
    "format: \n",
    "    html:\n",
    "        code-fold: true\n",
    "    \n",
    "---"
   ]
  },
  {
   "cell_type": "raw",
   "id": "b61e2d0e",
   "metadata": {},
   "source": []
  }
 ],
 "metadata": {
  "kernelspec": {
   "display_name": "Python 3 (ipykernel)",
   "language": "python",
   "name": "python3"
  },
  "language_info": {
   "codemirror_mode": {
    "name": "ipython",
    "version": 3
   },
   "file_extension": ".py",
   "mimetype": "text/x-python",
   "name": "python",
   "nbconvert_exporter": "python",
   "pygments_lexer": "ipython3",
   "version": "3.9.7"
  }
 },
 "nbformat": 4,
 "nbformat_minor": 5
}
