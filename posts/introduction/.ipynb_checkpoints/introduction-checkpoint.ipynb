{
 "cells": [
  {
   "cell_type": "markdown",
   "id": "caee6505",
   "metadata": {},
   "source": [
    "# This is my first post to test Quarto"
   ]
  },
  {
   "cell_type": "raw",
   "id": "f7cc3ebe",
   "metadata": {},
   "source": [
    "\n",
    "---\n",
    "title: \"My First Post\"\n",
    "author: \"Prem Puttegowda\"\n",
    "date: \"2022-10-02\"\n",
    "categories: [test]\n",
    "\n",
    "---\n",
    "    \n"
   ]
  },
  {
   "cell_type": "raw",
   "id": "73c663aa",
   "metadata": {},
   "source": []
  }
 ],
 "metadata": {
  "kernelspec": {
   "display_name": "Python 3 (ipykernel)",
   "language": "python",
   "name": "python3"
  },
  "language_info": {
   "codemirror_mode": {
    "name": "ipython",
    "version": 3
   },
   "file_extension": ".py",
   "mimetype": "text/x-python",
   "name": "python",
   "nbconvert_exporter": "python",
   "pygments_lexer": "ipython3",
   "version": "3.9.7"
  }
 },
 "nbformat": 4,
 "nbformat_minor": 5
}
