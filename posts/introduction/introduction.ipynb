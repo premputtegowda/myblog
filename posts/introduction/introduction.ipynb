{
 "cells": [
  {
   "cell_type": "markdown",
   "id": "caee6505",
   "metadata": {},
   "source": [
    "# This is my first post to test Quarto"
   ]
  },
  {
   "cell_type": "raw",
   "id": "f7cc3ebe",
   "metadata": {},
   "source": [
    "\n",
    "---\n",
    "title: \"My First Post\"\n",
    "author: \"Prem Puttegowda\"\n",
    "date: \"2022-10-02\"\n",
    "categories: []\n",
    "\n",
    "---\n",
    "    \n"
   ]
  },
  {
   "cell_type": "markdown",
   "id": "a220bb20",
   "metadata": {},
   "source": [
    "# Hello\n",
    "\n",
    "My name is Prem Puttegowda. My intention here is to blog what I learn, share content in a way that minimizes the struggle and simplifies the learning process for others. Most topics will be basic to start with and I hope to learn and write advanced topics in a way that seems simple and basic. If you find the content useful, please share it with your network.\n",
    "\n",
    "Thank you,\n",
    "Prem"
   ]
  },
  {
   "cell_type": "code",
   "execution_count": null,
   "id": "04878ec2",
   "metadata": {},
   "outputs": [],
   "source": []
  }
 ],
 "metadata": {
  "kernelspec": {
   "display_name": "Python 3 (ipykernel)",
   "language": "python",
   "name": "python3"
  },
  "language_info": {
   "codemirror_mode": {
    "name": "ipython",
    "version": 3
   },
   "file_extension": ".py",
   "mimetype": "text/x-python",
   "name": "python",
   "nbconvert_exporter": "python",
   "pygments_lexer": "ipython3",
   "version": "3.9.7"
  }
 },
 "nbformat": 4,
 "nbformat_minor": 5
}
