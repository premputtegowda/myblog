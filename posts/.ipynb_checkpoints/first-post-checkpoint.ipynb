{
 "cells": [
  {
   "cell_type": "markdown",
   "id": "20823e3f",
   "metadata": {},
   "source": [
    "# This is my first post to test Quarto"
   ]
  },
  {
   "cell_type": "raw",
   "id": "aaebbdb1",
   "metadata": {},
   "source": [
    "\n",
    "---\n",
    "title: \"My First Post\"\n",
    "author: \"Prem Puttegowda\"\n",
    "date: \"2022-10-02\"\n",
    "categories: [test]\n",
    "\n",
    "---\n",
    "    \n"
   ]
  },
  {
   "cell_type": "raw",
   "id": "9321b73a",
   "metadata": {},
   "source": []
  }
 ],
 "metadata": {
  "kernelspec": {
   "display_name": "Python 3 (ipykernel)",
   "language": "python",
   "name": "python3"
  },
  "language_info": {
   "codemirror_mode": {
    "name": "ipython",
    "version": 3
   },
   "file_extension": ".py",
   "mimetype": "text/x-python",
   "name": "python",
   "nbconvert_exporter": "python",
   "pygments_lexer": "ipython3",
   "version": "3.9.7"
  }
 },
 "nbformat": 4,
 "nbformat_minor": 5
}
